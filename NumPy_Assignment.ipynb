{
 "cells": [
  {
   "cell_type": "code",
   "execution_count": 1,
   "metadata": {},
   "outputs": [],
   "source": [
    "#Submitted by Anuj Tyagi"
   ]
  },
  {
   "cell_type": "markdown",
   "metadata": {
    "colab_type": "text",
    "id": "lk2RCkoHgnBq"
   },
   "source": [
    "Write a function so that the columns of the output matrix are powers of the input\n",
    "vector.\n",
    "\n",
    "The order of the powers is determined by the increasing boolean argument. Specifically, when\n",
    "increasing is False, the i-th output column is the input vector raised element-wise to the power\n",
    "of N - i - 1.\n",
    "\n",
    "HINT: Such a matrix with a geometric progression in each row is named for Alexandre-\n",
    "Theophile Vandermonde."
   ]
  },
  {
   "cell_type": "code",
   "execution_count": 2,
   "metadata": {
    "colab": {},
    "colab_type": "code",
    "id": "VXM4uwJ8grlg"
   },
   "outputs": [],
   "source": [
    "import numpy as np\n",
    "\n",
    "def vanderMat(input, N, inc=False):\n",
    "  input = np.array(input)\n",
    "  if inc is True:\n",
    "    out = np.array([ x**(N-i-1) for x in input for i in range(N)]).reshape(input.size, N)\n",
    "  elif inc is False:\n",
    "    out = np.array([ x**i for x in input for i in range(N)]).reshape(input.size, N)\n",
    "\n",
    "  return out"
   ]
  },
  {
   "cell_type": "code",
   "execution_count": 3,
   "metadata": {
    "colab": {
     "base_uri": "https://localhost:8080/",
     "height": 104
    },
    "colab_type": "code",
    "id": "LSSVTeHuhRhq",
    "outputId": "1e8e8073-f18c-4a6d-bae4-7b0afcc548e8"
   },
   "outputs": [
    {
     "name": "stdout",
     "output_type": "stream",
     "text": [
      "[[ 1  1  1]\n",
      " [ 1  2  4]\n",
      " [ 1  3  9]\n",
      " [ 1  4 16]\n",
      " [ 1  5 25]]\n"
     ]
    }
   ],
   "source": [
    "print(vanderMat([1,2,3,4,5], 3, False))"
   ]
  },
  {
   "cell_type": "markdown",
   "metadata": {
    "colab_type": "text",
    "id": "4fm2NxWwiwOs"
   },
   "source": [
    "Problem Statement 2:\n",
    "\n",
    "Given a sequence of n values x1, x2, ..., xn and a window size k>0, the k-th moving average of\n",
    "the given sequence is defined as follows:\n",
    "\n",
    "The moving average sequence has n-k+1 elements as shown below.\n",
    "The moving averages with k=4 of a ten-value sequence (n=10) is shown below\n",
    "\n",
    "i 1 2 3 4 5 6 7 8 9 10\n",
    "\n",
    "===== == == == == == == == == == ==\n",
    "\n",
    "Input 10 20 30 40 50 60 70 80 90 100\n",
    "\n",
    "y1 25 = (10+20+30+40)/4\n",
    "\n",
    "y2 35 = (20+30+40+50)/4\n",
    "\n",
    "y3 45 = (30+40+50+60)/4\n",
    "\n",
    "y4 55 = (40+50+60+70)/4\n",
    "\n",
    "y5 65 = (50+60+70+80)/4\n",
    "\n",
    "y6 75 = (60+70+80+90)/4\n",
    "\n",
    "y7 85 = (70+80+90+100)/4\n",
    "\n",
    "Thus, the moving average sequence has n-k+1=10-4+1=7 values."
   ]
  },
  {
   "cell_type": "markdown",
   "metadata": {
    "colab_type": "text",
    "id": "GfOS9i7Xi_W-"
   },
   "source": [
    "Question: Write a function to find moving average in an array over a window:\n",
    "\n",
    "Test it over [3, 5, 7, 2, 8, 10, 11, 65, 72, 81, 99, 100, 150] and window of 3."
   ]
  },
  {
   "cell_type": "code",
   "execution_count": 4,
   "metadata": {
    "colab": {},
    "colab_type": "code",
    "id": "k9BeaIhjh9zN"
   },
   "outputs": [],
   "source": [
    "def moving_avg(inp_array, k):\n",
    "    n = len(inp_array)\n",
    "    N = (n - k + 1)\n",
    "    \n",
    "    for i in range(N):\n",
    "        moving_val = 0\n",
    "        count = 1\n",
    "        original_i = i\n",
    "        while(count <= k):\n",
    "            #print(count, \"\", \"calculating moving avg.\")\n",
    "            moving_val += inp_array[i]\n",
    "            count += 1\n",
    "            i += 1\n",
    "            \n",
    "        i = original_i\n",
    "        print(format(moving_val/k,'.3f'),\" \", end = \"\")"
   ]
  },
  {
   "cell_type": "code",
   "execution_count": 5,
   "metadata": {},
   "outputs": [
    {
     "name": "stdout",
     "output_type": "stream",
     "text": [
      "25.000  35.000  45.000  55.000  65.000  75.000  85.000  \n",
      "5.000  4.667  5.667  6.667  9.667  28.667  49.333  72.667  84.000  93.333  116.333  \n",
      "2.000  4.000  6.333  "
     ]
    }
   ],
   "source": [
    "given_arr = [10, 20, 30, 40, 50, 60, 70, 80, 90, 100]\n",
    "arr =  [3, 5, 7, 2, 8, 10, 11, 65, 72, 81, 99, 100, 150]\n",
    "arr2 = [1, 2, 3, 7, 9]\n",
    "moving_avg(given_arr, 4)\n",
    "print(\"\")\n",
    "moving_avg(arr, 3)\n",
    "print(\"\")\n",
    "moving_avg(arr2, 3)"
   ]
  },
  {
   "cell_type": "code",
   "execution_count": null,
   "metadata": {},
   "outputs": [],
   "source": []
  }
 ],
 "metadata": {
  "colab": {
   "collapsed_sections": [],
   "name": "NumPy Assignment.ipynb",
   "provenance": []
  },
  "kernelspec": {
   "display_name": "Python 3",
   "language": "python",
   "name": "python3"
  },
  "language_info": {
   "codemirror_mode": {
    "name": "ipython",
    "version": 3
   },
   "file_extension": ".py",
   "mimetype": "text/x-python",
   "name": "python",
   "nbconvert_exporter": "python",
   "pygments_lexer": "ipython3",
   "version": "3.7.7"
  }
 },
 "nbformat": 4,
 "nbformat_minor": 1
}
